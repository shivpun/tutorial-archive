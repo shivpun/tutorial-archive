{
 "cells": [
  {
   "cell_type": "markdown",
   "metadata": {},
   "source": [
    "## Set up TensorFlow\n",
    "```\n",
    "Import TensorFlow into your program to get started:\n",
    "```"
   ]
  },
  {
   "cell_type": "code",
   "execution_count": null,
   "metadata": {},
   "outputs": [],
   "source": [
    "import tensorflow as tf\n",
    "print(\"TensorFlow version:\", tf.__version__)"
   ]
  },
  {
   "cell_type": "markdown",
   "metadata": {},
   "source": [
    "## Simple hello world using TensorFlow v2.0\n",
    "### via `tf.compat.v1.Session()` Using the `close()` method."
   ]
  },
  {
   "cell_type": "code",
   "execution_count": null,
   "metadata": {},
   "outputs": [],
   "source": [
    "import tensorflow as tf\n",
    "\n",
    "#### The TensorFlow 2.0 has enabled eager execution by default. At the starting of algorithm, you need to use `tf.compat.v1.disable_eager_execution()` to disable eager execution.\n",
    "tf.compat.v1.disable_eager_execution()\n",
    "\n",
    "# Create a Constant op\n",
    "# The op is added as a node to the default graph.\n",
    "#\n",
    "# The value returned by the constructor represents the output\n",
    "# of the Constant op.\n",
    "hello = tf.constant('Hello, TensorFlow!')\n",
    "\n",
    "# Start tf session\n",
    "sess = tf.compat.v1.Session()\n",
    "# Run the op  \n",
    "outs = sess.run(hello)\n",
    "print(outs)\n",
    "sess.close()"
   ]
  },
  {
   "cell_type": "markdown",
   "metadata": {},
   "source": [
    "## Simple hello world using TensorFlow v2.0\n",
    "### via `tf.get_static_value()`"
   ]
  },
  {
   "cell_type": "code",
   "execution_count": null,
   "metadata": {},
   "outputs": [],
   "source": [
    "import tensorflow as tf\n",
    "\n",
    "# Create a Tensor.\n",
    "hello = tf.constant(\"Hello, TensorFlow!\")\n",
    "\n",
    "# To access a Tensor value, call get_static_value().\n",
    "print(tf.get_static_value(hello))"
   ]
  },
  {
   "cell_type": "markdown",
   "metadata": {},
   "source": [
    "## Simple hello world using TensorFlow v2.0\n",
    "### via `tf.compat.v1.Session()` Using the `context manager`."
   ]
  },
  {
   "cell_type": "code",
   "execution_count": 3,
   "metadata": {},
   "outputs": [
    {
     "name": "stdout",
     "output_type": "stream",
     "text": [
      "b'Hello, TensorFlow!'\n"
     ]
    }
   ],
   "source": [
    "import tensorflow as tf\n",
    "\n",
    "#### The TensorFlow 2.0 has enabled eager execution by default. At the starting of algorithm, you need to use `tf.compat.v1.disable_eager_execution()` to disable eager execution.\n",
    "tf.compat.v1.disable_eager_execution()\n",
    "\n",
    "# Create a Constant op\n",
    "# The op is added as a node to the default graph.\n",
    "#\n",
    "# The value returned by the constructor represents the output\n",
    "# of the Constant op.\n",
    "hello = tf.constant('Hello, TensorFlow!')\n",
    "\n",
    "# Start tf session Using the context manager.\n",
    "with tf.compat.v1.Session() as sess:\n",
    "  outs = sess.run(hello)\n",
    "  print(outs)"
   ]
  },
  {
   "cell_type": "markdown",
   "metadata": {},
   "source": [
    "## Simple hello world using TensorFlow v2.0\n",
    "### via `tf.compat.v1.Session()` Using the `sess.as_default()`."
   ]
  },
  {
   "cell_type": "code",
   "execution_count": null,
   "metadata": {},
   "outputs": [],
   "source": [
    "import tensorflow as tf\n",
    "\n",
    "#### The TensorFlow 2.0 has enabled eager execution by default. At the starting of algorithm, you need to use `tf.compat.v1.disable_eager_execution()` to disable eager execution.\n",
    "# tf.compat.v1.disable_eager_execution()\n",
    "\n",
    "# Create a Constant op\n",
    "# The op is added as a node to the default graph.\n",
    "#\n",
    "# The value returned by the constructor represents the output\n",
    "# of the Constant op.\n",
    "hello = tf.constant('Hello, TensorFlow!')\n",
    "\n",
    "# Start tf session Using the context manager.\n",
    "sess = tf.compat.v1.Session()\n",
    "\n",
    "with sess.as_default():\n",
    "  print(hello.eval())\n",
    "\n",
    "# Note: The as_default context manager does not close the session when you exit the context, and you must close the session explicitly.\n",
    "sess.close()"
   ]
  },
  {
   "cell_type": "markdown",
   "metadata": {},
   "source": [
    "## Simple hello world using TensorFlow v2.0\n",
    "### via `numpy()`."
   ]
  },
  {
   "cell_type": "code",
   "execution_count": 1,
   "metadata": {},
   "outputs": [
    {
     "name": "stdout",
     "output_type": "stream",
     "text": [
      "b'Hello, TensorFlow!'\n",
      "b'Hello, TensorFlow!'\n"
     ]
    }
   ],
   "source": [
    "import tensorflow as tf\n",
    "\n",
    "# Create a Tensor.\n",
    "hello = tf.constant(\"Hello, TensorFlow!\")\n",
    "\n",
    "# To access a Tensor value, call numpy().\n",
    "print(hello.numpy())\n",
    "hello_identity = tf.identity(hello)\n",
    "print(hello_identity.numpy())"
   ]
  }
 ],
 "metadata": {
  "kernelspec": {
   "display_name": "tf-00",
   "language": "python",
   "name": "python3"
  },
  "language_info": {
   "codemirror_mode": {
    "name": "ipython",
    "version": 3
   },
   "file_extension": ".py",
   "mimetype": "text/x-python",
   "name": "python",
   "nbconvert_exporter": "python",
   "pygments_lexer": "ipython3",
   "version": "3.11.0"
  },
  "orig_nbformat": 4
 },
 "nbformat": 4,
 "nbformat_minor": 2
}
